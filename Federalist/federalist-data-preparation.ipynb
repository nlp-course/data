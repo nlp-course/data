{
 "cells": [
  {
   "cell_type": "markdown",
   "metadata": {},
   "source": [
    "# Preprocess the Federalist papers to provide counts for a few important keywords\n",
    "\n",
    "The keywords are taken from Mosteller and Wallace, \"Inference in an Authorship Problem\", as the most \"important\" words by there methods."
   ]
  },
  {
   "cell_type": "code",
   "execution_count": 1,
   "metadata": {},
   "outputs": [],
   "source": [
    "keywords = ['on', 'upon', 'there', 'whilst']"
   ]
  },
  {
   "cell_type": "code",
   "execution_count": 2,
   "metadata": {},
   "outputs": [],
   "source": [
    "import glob\n",
    "import re\n",
    "import torchtext\n",
    "import json"
   ]
  },
  {
   "cell_type": "code",
   "execution_count": 23,
   "metadata": {},
   "outputs": [],
   "source": [
    "# Get file names for all of the papers\n",
    "fnames = glob.glob(\"*.*-*\")"
   ]
  },
  {
   "cell_type": "code",
   "execution_count": 24,
   "metadata": {},
   "outputs": [],
   "source": [
    "def contents(fin):\n",
    "    '''Returns the text contents of a file with given file name'''\n",
    "    with open(fin, 'r') as input:\n",
    "        # return '\\n'.join(input.read().split('\\n')[556:])\n",
    "        return input.read()"
   ]
  },
  {
   "cell_type": "code",
   "execution_count": 30,
   "metadata": {},
   "outputs": [],
   "source": [
    "# Dataset has one element for each paper\n",
    "dataset = [None] * len(fnames)\n",
    "\n",
    "for fname in fnames:\n",
    "    # Extract metadata from file names\n",
    "    m = re.match('^(?P<number>\\d+)\\.\\s+(?P<title>.+) - (?P<authors>.*)$', fname)\n",
    "    if m:\n",
    "        number = m.group('number')\n",
    "        title = m.group('title')\n",
    "        authors = m.group('authors')\n",
    "        #print(f'processing {number}. \"{title}\" by {authors}')\n",
    "        # Tokenize the contents\n",
    "        tokens = torchtext.data.get_tokenizer(\"basic_english\")(contents(fname))\n",
    "        # Get counts for the keywords\n",
    "        counts = [tokens.count(key) for key in keywords]\n",
    "        # Construct dataset item for this paper\n",
    "        dataset[int(number) - 1] = {'number': number, 'title': title, 'authors': authors, 'counts': counts}"
   ]
  },
  {
   "cell_type": "code",
   "execution_count": 31,
   "metadata": {},
   "outputs": [],
   "source": [
    "# Dump the dataset as json\n",
    "with open('federalist_data.json', 'w') as fout:\n",
    "    json.dump(dataset, fout, sort_keys=True, indent = 2)"
   ]
  },
  {
   "cell_type": "code",
   "execution_count": null,
   "metadata": {},
   "outputs": [],
   "source": []
  }
 ],
 "metadata": {
  "kernelspec": {
   "display_name": "Python 3",
   "language": "python",
   "name": "python3"
  },
  "language_info": {
   "codemirror_mode": {
    "name": "ipython",
    "version": 3
   },
   "file_extension": ".py",
   "mimetype": "text/x-python",
   "name": "python",
   "nbconvert_exporter": "python",
   "pygments_lexer": "ipython3",
   "version": "3.8.3"
  }
 },
 "nbformat": 4,
 "nbformat_minor": 4
}
